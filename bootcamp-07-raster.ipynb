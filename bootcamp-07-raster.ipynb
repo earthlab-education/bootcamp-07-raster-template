{
 "cells": [
  {
   "cell_type": "markdown",
   "metadata": {},
   "source": [
    "<img style=\"float: left;\" src=\"earth-lab-logo-rgb.png\" width=\"150\" height=\"150\" />\n",
    "\n",
    "# Earth Analytics Education"
   ]
  },
  {
   "cell_type": "markdown",
   "metadata": {},
   "source": [
    "## Important  - Assignment Guidelines\n",
    "\n",
    "1. Before you submit your assignment to GitHub, make sure to run the entire notebook with a fresh kernel. To do this first, **restart the kernel** (in the menubar, select Kernel$\\rightarrow$Restart & Run All)\n",
    "2. Always replace the `raise NotImplementedError()` code with your code that addresses the activity challenge. If you don't replace that code, your notebook will not run.\n",
    "\n",
    "```\n",
    "# YOUR CODE HERE\n",
    "raise NotImplementedError()\n",
    "```\n",
    "\n",
    "3. Any open ended questions will have a \"YOUR ANSWER HERE\" within a markdown cell. Replace that text with your answer also formatted using Markdown.\n",
    "4. **DO NOT RENAME THIS NOTEBOOK File!** If the file name changes, the autograder will not grade your assignment properly.\n",
    "\n",
    "* Only include the package imports, code, and outputs that are required to run your homework assignment.\n",
    "* Be sure that your code can be run on any operating system. This means that:\n",
    "   1. the data should be downloaded in the notebook to ensure it's reproducible\n",
    "   2. all paths should be created dynamically using the `os.path.join`\n",
    "   3. sort lists of dated files even if they are sorted correctly by default on your machine\n",
    "\n",
    "## Follow to PEP 8 Syntax Guidelines & Documentation\n",
    "\n",
    "* Run the `autopep8` tool on all cells prior to submitting (HINT: hit shift + the tool to run it on all cells at once!\n",
    "* Use clear and expressive names for variables. \n",
    "* Organize your code to support readability.\n",
    "* Check for code line length\n",
    "* Use comments and white space sparingly where it is needed\n",
    "* Make sure all python imports are at the top of your notebook and follow PEP 8 order conventions\n",
    "* Spell check your Notebook before submitting it.\n",
    "\n",
    "For all of the plots below, be sure to do the following:\n",
    "\n",
    "* Make sure each plot has a clear TITLE and, where appropriate, label the x and y axes. Be sure to include UNITS in your labels.\n"
   ]
  },
  {
   "cell_type": "markdown",
   "metadata": {},
   "source": [
    "### Add Your Name Below \n",
    "**Your Name:**"
   ]
  },
  {
   "cell_type": "markdown",
   "metadata": {},
   "source": [
    "<img style=\"float: left;\" src=\"colored-bar.png\"/>"
   ]
  },
  {
   "cell_type": "markdown",
   "metadata": {},
   "source": [
    "---"
   ]
  },
  {
   "cell_type": "markdown",
   "metadata": {
    "deletable": false,
    "editable": false,
    "nbgrader": {
     "cell_type": "markdown",
     "checksum": "4c9a98e8bdd39afdd829f3d2db5a9fae",
     "grade": false,
     "grade_id": "hw-instructions",
     "locked": true,
     "schema_version": 3,
     "solution": false,
     "task": false
    }
   },
   "source": [
    "# Raster Data in Python: Quantify Ecological Change Using Remote Sensing Derived Data\n",
    "\n",
    "If you haven't already, review the following chapters in the Intermediate Earth Data Science\n",
    "online textbook:\n",
    "\n",
    "* https://www.earthdatascience.org/courses/use-data-open-source-python/data-stories/what-is-lidar-data/\n",
    "* https://www.earthdatascience.org/courses/use-data-open-source-python/data-stories/colorado-floods-2013/ \n",
    "* https://www.earthdatascience.org/courses/use-data-open-source-python/intro-raster-data-python/fundamentals-raster-data/"
   ]
  },
  {
   "cell_type": "markdown",
   "metadata": {
    "deletable": false,
    "editable": false,
    "nbgrader": {
     "cell_type": "markdown",
     "checksum": "f4a2b9f8ca11c12875125079486e870a",
     "grade": false,
     "grade_id": "cell-ab2d885c5d530713",
     "locked": true,
     "points": 2,
     "schema_version": 3,
     "solution": false,
     "task": true
    }
   },
   "source": [
    "## Boulder, CO Pre- and Post-flood Data\n",
    "### Data Selection\n",
    "\n",
    "For this assignment, you will examine disturbances to the vegetation and terrain caused by the Boulder 2013 flood event. Digital Terrain Models (DTMs) and Digital Surface Models (DSMs) derived from Laser Imaging, Detection, and Ranging (LIDAR) measurements are available *upon request* from the National Ecological Observation Network (NEON) for before and after the flood event. For this assignment, the data are available from the earthpy colorado-flood data subset.\n",
    "\n",
    "In your opinion, are these NEON DTM/DSM data FAIR (Findable, Accessible, Inter-operable, and Reusable)? Why or why not? Answer in the cell below."
   ]
  },
  {
   "cell_type": "markdown",
   "metadata": {},
   "source": [
    "YOUR ANSWER HERE"
   ]
  },
  {
   "cell_type": "markdown",
   "metadata": {
    "deletable": false,
    "editable": false,
    "nbgrader": {
     "cell_type": "markdown",
     "checksum": "e6028d9831a3c7d77b421683303d70b0",
     "grade": false,
     "grade_id": "cell-5cd31cec12e1350a",
     "locked": true,
     "points": 6,
     "schema_version": 3,
     "solution": false,
     "task": true
    }
   },
   "source": [
    "### Data Description\n",
    "Using the [NEON report describing these data](https://citeseerx.ist.psu.edu/viewdoc/download?doi=10.1.1.709.6127&rep=rep1&type=pdf), answer the following questions in the cell below:\n",
    "  1. What dates were the before and after flood data collected?\n",
    "  2. What processing if any was done on the raw LiDAR data? What tools did the authors use?\n",
    "  3. Write an assertion-evidence style takeaway for one of the figures included in the report (you can reference the figure number rather than displaying the image in your notebook)."
   ]
  },
  {
   "cell_type": "markdown",
   "metadata": {},
   "source": [
    "YOUR ANSWER HERE"
   ]
  },
  {
   "cell_type": "markdown",
   "metadata": {
    "deletable": false,
    "editable": false,
    "nbgrader": {
     "cell_type": "markdown",
     "checksum": "5ae95852e6090b85ba549b71e434f9f5",
     "grade": false,
     "grade_id": "cell-6557d9682902ce2f",
     "locked": true,
     "points": 2,
     "schema_version": 3,
     "solution": false,
     "task": true
    }
   },
   "source": [
    "### Data Citation\n",
    "In the cell below, cite the pre- and post-flood LiDAR data from NEON."
   ]
  },
  {
   "cell_type": "markdown",
   "metadata": {},
   "source": [
    "YOUR ANSWER HERE"
   ]
  },
  {
   "cell_type": "code",
   "execution_count": null,
   "metadata": {
    "deletable": false,
    "editable": false,
    "nbgrader": {
     "cell_type": "code",
     "checksum": "a0938634bf29792afdaa82034d999f06",
     "grade": false,
     "grade_id": "core-imports",
     "locked": true,
     "schema_version": 3,
     "solution": false,
     "task": false
    }
   },
   "outputs": [],
   "source": [
    "# Imports for autograding - do not edit!\n",
    "import numpy as np"
   ]
  },
  {
   "cell_type": "markdown",
   "metadata": {
    "deletable": false,
    "editable": false,
    "nbgrader": {
     "cell_type": "markdown",
     "checksum": "1b0c8169da68d1be2a33b7d2d2c4d2c3",
     "grade": false,
     "grade_id": "bar-1",
     "locked": true,
     "schema_version": 3,
     "solution": false,
     "task": false
    }
   },
   "source": [
    "<img style=\"float: left;\" src=\"colored-bar.png\"/>"
   ]
  },
  {
   "cell_type": "markdown",
   "metadata": {
    "deletable": false,
    "editable": false,
    "nbgrader": {
     "cell_type": "markdown",
     "checksum": "6306bc60bb65a1b720c672d39986a730",
     "grade": false,
     "grade_id": "question-student-imports",
     "locked": true,
     "schema_version": 3,
     "solution": false,
     "task": false
    }
   },
   "source": [
    "##  Locate and load data into Python\n",
    "\n",
    "### Import required packages\n",
    "\n",
    "To begin, in the cell below add any python imports needed to complete this assignment.\n",
    "Do not add imports that are not used in this notebook!"
   ]
  },
  {
   "cell_type": "code",
   "execution_count": null,
   "metadata": {
    "deletable": false,
    "nbgrader": {
     "cell_type": "code",
     "checksum": "5297052fe39a7d40d39474d099ccec72",
     "grade": false,
     "grade_id": "student-imports-answer",
     "locked": false,
     "schema_version": 3,
     "solution": true,
     "task": false
    }
   },
   "outputs": [],
   "source": [
    "# Import libraries here needed to run this notebook\n",
    "\n",
    "# YOUR CODE HERE\n",
    "raise NotImplementedError()"
   ]
  },
  {
   "cell_type": "code",
   "execution_count": null,
   "metadata": {
    "deletable": false,
    "editable": false,
    "nbgrader": {
     "cell_type": "code",
     "checksum": "4366bb293f466bd3435f5e667579c01c",
     "grade": true,
     "grade_id": "student-imports-tests",
     "locked": true,
     "points": 0,
     "schema_version": 3,
     "solution": false,
     "task": false
    }
   },
   "outputs": [],
   "source": [
    "# Test package imports - DO NOT MODIFY THIS CELL!\n",
    "\n",
    "try:\n",
    "    gpd_lib = gpd\n",
    "    print(\"\\u2705 Score! geopandas has been imported as a gpd!\")\n",
    "except NameError:\n",
    "    print(\"\\u274C geopandas has not been imported as a gpd, please make \"\n",
    "          \"sure to import is properly.\")\n",
    "\n",
    "try:\n",
    "    rxr_lib = rxr\n",
    "    print(\"\\u2705 Score! rioxarray has been imported as a rxr!\")\n",
    "except NameError:\n",
    "    print(\"\\u274C rioxarray has not been imported as a rxr, please make \"\n",
    "          \"sure to import is properly.\")\n",
    "\n",
    "try:\n",
    "    xr_lib = xr\n",
    "    print(\"\\u2705 Score! xarray has been imported as a xr!\")\n",
    "except NameError:\n",
    "    print(\"\\u274C xarray has not been imported as a xr, please make \"\n",
    "          \"sure to import is properly.\")"
   ]
  },
  {
   "cell_type": "markdown",
   "metadata": {
    "deletable": false,
    "editable": false,
    "hideCode": false,
    "hidePrompt": false,
    "nbgrader": {
     "cell_type": "markdown",
     "checksum": "08709364ae0f85916f29d4f41827da20",
     "grade": false,
     "grade_id": "set-working-directory-instructions",
     "locked": true,
     "schema_version": 3,
     "solution": false,
     "task": false
    }
   },
   "source": [
    "### Set Working Directory and Download Data\n",
    "\n",
    "In the cell below complete the following task:\n",
    "\n",
    "1. First, use **EarthPy** to download the `colorado-flood` data:\n",
    "    \n",
    "   ```python\n",
    "   et.data.get_data(\"colorado-flood\")\n",
    "   ```\n",
    "\n",
    "2. **Use a conditional statement** to:\n",
    "    * Check if the `~` >`earth-analytics` > `data` > `colorado-flood` directory exists\n",
    "    * Create the path if it does not exist.\n",
    "    * **Incorporate variable(s) to reduce repetition in your code.**\n",
    "    * Use the `os` package to ensure that the paths you create will run successfully on any operating system.\n",
    "    \n",
    "3. Change the working directory to the `colorado-flood` directory."
   ]
  },
  {
   "cell_type": "code",
   "execution_count": null,
   "metadata": {
    "deletable": false,
    "hideCode": false,
    "hidePrompt": false,
    "nbgrader": {
     "cell_type": "code",
     "checksum": "493058698ed1e554203b2beb03b6e0be",
     "grade": false,
     "grade_id": "download-and-set-working-directory",
     "locked": false,
     "schema_version": 3,
     "solution": true,
     "task": false
    }
   },
   "outputs": [],
   "source": [
    "# Download data and set your working directory here.\n",
    "# Remember that this code should work on any computer!\n",
    "\n",
    "# YOUR CODE HERE\n",
    "raise NotImplementedError()"
   ]
  },
  {
   "cell_type": "code",
   "execution_count": null,
   "metadata": {
    "deletable": false,
    "editable": false,
    "hideCode": false,
    "hidePrompt": false,
    "nbgrader": {
     "cell_type": "code",
     "checksum": "cd25e758da58de89777c5e73fadfe2ba",
     "grade": true,
     "grade_id": "student-download-tests",
     "locked": true,
     "points": 2,
     "schema_version": 3,
     "solution": false,
     "task": false
    }
   },
   "outputs": [],
   "source": [
    "# DO NOT MODIFY THIS CELL\n",
    "# Tests that the working directory is earth-analytics/data/colorado-flood\n",
    "\n",
    "path = os.path.normpath(os.getcwd())\n",
    "student_wd_parts = path.split(os.sep)\n",
    "\n",
    "wd_points = 0\n",
    "\n",
    "if student_wd_parts[-3:] == ['earth-analytics', 'data', 'colorado-flood']:\n",
    "    print(\"\\u2705 Great - it looks like your working directory is set \"\n",
    "          \"correctly to ~/earth-analytics/data/colorado-flood\")\n",
    "    wd_points += 2\n",
    "else:\n",
    "    print(\"\\u274C Oops, the autograder will not run unless your working \"\n",
    "          \"directory is set to earth-analytics/data/colorado-flood\")\n",
    "\n",
    "print(\"\\n \\u27A1 You received {} out of 2 points for setting your \"\n",
    "      \"working directory.\"\n",
    "      .format(wd_points))\n",
    "\n",
    "wd_points"
   ]
  },
  {
   "cell_type": "markdown",
   "metadata": {},
   "source": [
    "## Import data to Python\n",
    "\n",
    "### Define the paths to data files\n",
    "\n",
    "All the files you will need are in the `spatial` > `boulder-leehill-rd`\n",
    "\n",
    "For this analysis, you will need:\n",
    "  * pre-flood DTM GeoTIFF (.tif) raster\n",
    "  * pre-flood DSM GeoTIFF (.tif) raster\n",
    "  * post-flood DTM GeoTIFF (.tif) raster\n",
    "  * post-flood DSM GeoTIFF (.tif) raster\n",
    "  * Area of interest (AOI) shapefile\n",
    "  \n",
    "In the cell below, **use a bash command** to list all the files in `spatial` > `boulder-leehill-rd`."
   ]
  },
  {
   "cell_type": "code",
   "execution_count": null,
   "metadata": {
    "deletable": false,
    "nbgrader": {
     "cell_type": "code",
     "checksum": "ad5b459dbaf57902253e31bce8b35de2",
     "grade": false,
     "grade_id": "cell-66a8a7919ca0664c",
     "locked": false,
     "schema_version": 3,
     "solution": true,
     "task": false
    }
   },
   "outputs": [],
   "source": [
    "%%bash\n",
    "# YOUR CODE HERE\n",
    "raise NotImplementedError()"
   ]
  },
  {
   "cell_type": "markdown",
   "metadata": {
    "deletable": false,
    "editable": false,
    "nbgrader": {
     "cell_type": "markdown",
     "checksum": "52f48f5523990ede9e83d398a425f65e",
     "grade": false,
     "grade_id": "cell-0a149708f5f1763b",
     "locked": true,
     "points": 2,
     "schema_version": 3,
     "solution": false,
     "task": true
    }
   },
   "source": [
    "Based on the result, copy the paths of the *5 files* you need into the cell below.\n"
   ]
  },
  {
   "cell_type": "markdown",
   "metadata": {},
   "source": []
  },
  {
   "cell_type": "markdown",
   "metadata": {
    "deletable": false,
    "editable": false,
    "nbgrader": {
     "cell_type": "markdown",
     "checksum": "26a16895df98d922d3f5b789dc96bd68",
     "grade": false,
     "grade_id": "cell-23c09d31fea656ba",
     "locked": true,
     "schema_version": 3,
     "solution": false,
     "task": false
    }
   },
   "source": [
    "Next, in the cell below, define the four raster paths as Python variables with **descriptive names** so that your code will work on **any operating system**. Return all 4 of your file paths (in any order).\n",
    "\n",
    "To avoid copy pasta, make sure to define a **variable** for the `spatial` > `boulder-leehill-rd` directory.\n",
    "\n",
    "BONUS (5 points extra credit): Store your raster file paths in a dictionary. You will still need to return your file names as 5 separate items. (You can return a list or other iterator of your rasters, and the tests will run))"
   ]
  },
  {
   "cell_type": "code",
   "execution_count": null,
   "metadata": {
    "deletable": false,
    "nbgrader": {
     "cell_type": "code",
     "checksum": "cb71f696ab1174a87bc76a1ca2a98088",
     "grade": false,
     "grade_id": "cell-74dcfe33b2d3a943",
     "locked": false,
     "schema_version": 3,
     "solution": true,
     "task": false
    }
   },
   "outputs": [],
   "source": [
    "# YOUR CODE HERE\n",
    "raise NotImplementedError()"
   ]
  },
  {
   "cell_type": "code",
   "execution_count": null,
   "metadata": {
    "deletable": false,
    "editable": false,
    "nbgrader": {
     "cell_type": "code",
     "checksum": "4a04eb273268b2dbc4f67b7a9edddfee",
     "grade": true,
     "grade_id": "cell-2eab7ea86e63c935",
     "locked": true,
     "points": 4,
     "schema_version": 3,
     "solution": false,
     "task": false
    }
   },
   "outputs": [],
   "source": [
    "# DO NOT MODIFY THIS CELL\n",
    "\n",
    "student_paths = _\n",
    "paths_pts = 0\n",
    "\n",
    "if len(student_paths)==4:\n",
    "    print(\"\\u2705 Great job! You returned all 4 paths!\")\n",
    "    paths_pts += 2\n",
    "else:\n",
    "    print(\"\\u274C Oops, did you return all the paths?.\")\n",
    "\n",
    "paths_exist = [os.path.exists(pth) for pth in student_paths]\n",
    "if all(paths_exist):\n",
    "    print(\"\\u2705 Great job! All your paths exist!\")\n",
    "    paths_pts += 2\n",
    "else:\n",
    "    print(\"\\u274C Oops, your paths do not all exist.\")\n",
    "    \n",
    "print(\"\\n \\u27A1 You received {} out of 4 points for setting your \"\n",
    "      \"paths.\"\n",
    "      .format(paths_pts))\n",
    "    \n",
    "paths_pts"
   ]
  },
  {
   "cell_type": "markdown",
   "metadata": {
    "deletable": false,
    "editable": false,
    "nbgrader": {
     "cell_type": "markdown",
     "checksum": "420f893a2758b202404861e34f661fb0",
     "grade": false,
     "grade_id": "cell-6937fb7dc9dad160",
     "locked": true,
     "schema_version": 3,
     "solution": false,
     "task": false
    }
   },
   "source": [
    "### Open the clipping extent shapefile\n",
    "\n",
    "Define a path to the `clip-extent.shp` file, and then open it using `geopandas`\n",
    "\n",
    "Call your `GeoDataFrame` at the end of the cell for testing"
   ]
  },
  {
   "cell_type": "code",
   "execution_count": null,
   "metadata": {
    "deletable": false,
    "nbgrader": {
     "cell_type": "code",
     "checksum": "2d5a92f1d8866edc035f1f17974126ce",
     "grade": false,
     "grade_id": "cell-e764c3a5196dc6bc",
     "locked": false,
     "schema_version": 3,
     "solution": true,
     "task": false
    }
   },
   "outputs": [],
   "source": [
    "# YOUR CODE HERE\n",
    "raise NotImplementedError()"
   ]
  },
  {
   "cell_type": "code",
   "execution_count": null,
   "metadata": {
    "deletable": false,
    "editable": false,
    "nbgrader": {
     "cell_type": "code",
     "checksum": "f3dde0b2dadf20845a5729da82d57be1",
     "grade": true,
     "grade_id": "cell-52ae74d7dd505c73",
     "locked": true,
     "points": 2,
     "schema_version": 3,
     "solution": false,
     "task": false
    }
   },
   "outputs": [],
   "source": [
    "student_gdf = _\n",
    "gdf_pts = 0\n",
    "\n",
    "if isinstance(student_gdf, gpd.GeoDataFrame):\n",
    "    print(\"\\u2705 Great job! You returned a GeoDataFrame!\")\n",
    "    gdf_pts += 2\n",
    "else:\n",
    "    print(\"\\u274C Oops, did you call your GeoDataFrame?\")\n",
    "    \n",
    "print(\"\\n \\u27A1 You received {} out of 2 points for opening your \"\n",
    "      \"clip extent shapefile.\"\n",
    "      .format(gdf_pts))\n",
    "\n",
    "gdf_pts"
   ]
  },
  {
   "cell_type": "markdown",
   "metadata": {
    "deletable": false,
    "editable": false,
    "nbgrader": {
     "cell_type": "markdown",
     "checksum": "87aaf4d534a98992b51897ffb0106db2",
     "grade": false,
     "grade_id": "cell-6c13aa092a87f109",
     "locked": true,
     "schema_version": 3,
     "solution": false,
     "task": false
    }
   },
   "source": [
    "### Open the data with rioxarray and clip it\n",
    "\n",
    "#### Write a function to open your raster files\n",
    "\n",
    "Below is a [**numpy-style** docstring](https://numpydoc.readthedocs.io/en/latest/format.html#docstring-standard) for a function that you will write. You don't need to import the numpy library to write a numpy-style docstring; that descriptions means that the docstring follows the same style guide that developers for numpy use:\n",
    "\n",
    "  ```python\n",
    "  \"\"\"\n",
    "  Open a GeoTIFF file and clip to the area of interest (AOI).\n",
    "  \n",
    "  Uses the rioxarray package to open a raster dataset. Performs\n",
    "  standard preprocessing tasks: \n",
    "    1. Masks NA values\n",
    "    2. Eliminates dimensions of length one\n",
    "    3. Clips to data using a supplied shapefile.\n",
    "    \n",
    "  Parameters\n",
    "  ----------\n",
    "  tif_path: str\n",
    "      Path to the GeoTIFF raster dataset to be opened.\n",
    "  shp_path: str\n",
    "      Path to the shapefile of the AOI.\n",
    "  \n",
    "  Returns\n",
    "  -------\n",
    "  xarray.DataArray\n",
    "      The preprocessed raster dataset.\n",
    "  \"\"\"\n",
    "  ```\n",
    "  \n",
    "Notice that the docstring does not extend past 72 characters, as specified by PEP 8.\n",
    "\n",
    "In the cell below, write a function that matches this docstring. It should:\n",
    "  1. Open a raster dataset with NA values masked\n",
    "  2. Remove any extra dimensions (e.g. dimensions of length 1)\n",
    "  3. Clip to the area of interest defined by the `clip-extent.shp` file, making sure that the Coordinate Reference Systems (CRSs) match.\n",
    "  4. Have this same docstring! Copy the docstring to the second line of your function, making sure that it is indented. You should see the whole docstring when you run `help(your_function_name)`\n",
    "  \n",
    "HINT: **Write the function one line at a time**, making sure to test along the way by evaluating the function on a single dataset. It may be helpful  to write the code to perform these steps for one of the datasets, and then convert that into a function.\n",
    "\n",
    "**Type the *name of your function* on the last line of the cell for testing. Do not include parentheses - this test is checking for a docstring, not the results of the function.**"
   ]
  },
  {
   "cell_type": "code",
   "execution_count": null,
   "metadata": {
    "deletable": false,
    "nbgrader": {
     "cell_type": "code",
     "checksum": "50198b102c59ecacfe9004df71e6675e",
     "grade": false,
     "grade_id": "cell-346150076124e310",
     "locked": false,
     "schema_version": 3,
     "solution": true,
     "task": false
    }
   },
   "outputs": [],
   "source": [
    "# YOUR CODE HERE\n",
    "raise NotImplementedError()"
   ]
  },
  {
   "cell_type": "code",
   "execution_count": null,
   "metadata": {
    "deletable": false,
    "editable": false,
    "nbgrader": {
     "cell_type": "code",
     "checksum": "3d23f93603232c39b10d267dc1fde32e",
     "grade": true,
     "grade_id": "cell-1b665f9155d69103",
     "locked": true,
     "points": 2,
     "schema_version": 3,
     "solution": false,
     "task": false
    }
   },
   "outputs": [],
   "source": [
    "student_function = _\n",
    "function_pts = 0\n",
    "\n",
    "student_docstring = student_function.__doc__\n",
    "if not student_docstring is None:\n",
    "    print(\"\\u2705 Great job! You submitted a function with a docstring ^!\")\n",
    "    function_pts += 1\n",
    "    \n",
    "    if len(student_docstring.split('\\n')) > 3:\n",
    "        print(\"\\u2705 Great job! Your function has a multi-line docstring!\")\n",
    "        function_pts += 1\n",
    "    else:\n",
    "        print(\"\\u274C Oops, that docstring is too short.\")\n",
    "        \n",
    "else:\n",
    "    print(\"\\u274C Oops, that isn't a function with a docstring.\")\n",
    "    \n",
    "print(\"\\n \\u27A1 You received {} out of 2 points for writing a function.\"\n",
    "      .format(function_pts))\n",
    "\n",
    "function_pts"
   ]
  },
  {
   "cell_type": "markdown",
   "metadata": {},
   "source": [
    "#### Open all the raster files using your function\n",
    "\n",
    "Use your function to open all four raster datasets. There are multiple ways to do this - I expect most of you two choose one of the following:\n",
    "  1. You can save each opened dataset as its own **descriptive** variable. We only have four datasets here, so this is a fine way to do this even if other methods are more DRY.\n",
    "  2. If you completed the earlier bonus challenge you can write a loop to open all the datasets in your dictionary by using the `.items()` method. Remember that `.items()` returns two items (key AND value) for each iteration.\n",
    "  \n",
    "No matter which method you choose, you should return all four datasets by separating them with commas or by returning `dictionary.values()`."
   ]
  },
  {
   "cell_type": "code",
   "execution_count": null,
   "metadata": {
    "deletable": false,
    "nbgrader": {
     "cell_type": "code",
     "checksum": "ba898f0958b8ae3ffb9e502d4f9798a4",
     "grade": false,
     "grade_id": "cell-40078657b49f2ade",
     "locked": false,
     "schema_version": 3,
     "solution": true,
     "task": false
    }
   },
   "outputs": [],
   "source": [
    "# YOUR CODE HERE\n",
    "raise NotImplementedError()"
   ]
  },
  {
   "cell_type": "code",
   "execution_count": null,
   "metadata": {
    "deletable": false,
    "editable": false,
    "nbgrader": {
     "cell_type": "code",
     "checksum": "b5230f1b428b18cea40ea2227f3a4d63",
     "grade": true,
     "grade_id": "cell-212774bb5b80da2d",
     "locked": true,
     "points": 10,
     "schema_version": 3,
     "solution": false,
     "task": false
    }
   },
   "outputs": [],
   "source": [
    "student_das = _\n",
    "das_pts = 0\n",
    "\n",
    "if (len(student_das)==4 \n",
    "      and all([isinstance(da, xr.DataArray) for da in student_das])):\n",
    "    print(\"\\u2705 Great job! Your returned 4 DataArrays!\")\n",
    "    das_pts += 2\n",
    "else:\n",
    "    print(\"\\u274C Oops, make sure your returned all 4 of your DataArrays.\")\n",
    "    \n",
    "if all([len(da.x)==3490 and len(da.y)==2000 for da in student_das]):\n",
    "    print(\"\\u2705 Great job! Your DataArrays are the right size!\")\n",
    "    das_pts += 4\n",
    "else:\n",
    "    print(\"\\u274C Oops, make sure you clipped your DataArrays.\")\n",
    "    \n",
    "if sum([da.sum().values for da in student_das])==51005370368:\n",
    "    print(\"\\u2705 Great job! Your DataArrays have the right values!\")\n",
    "    das_pts += 4\n",
    "else:\n",
    "    print(\"\\u274C Oops, your DataArrays do not have the right values.\")\n",
    "    \n",
    "print(\"\\n \\u27A1 You received {} out of 10 points for opening your \"\n",
    "      \"four raster datasets.\"\n",
    "      .format(das_pts))\n",
    "\n",
    "das_pts"
   ]
  },
  {
   "cell_type": "markdown",
   "metadata": {
    "deletable": false,
    "editable": false,
    "nbgrader": {
     "cell_type": "markdown",
     "checksum": "8011485904f10bb7e2c45ccacd7e7127",
     "grade": false,
     "grade_id": "challenge-1-instructions",
     "locked": true,
     "schema_version": 3,
     "solution": false,
     "task": false
    }
   },
   "source": [
    "## Calculate the change in terrain and vegetation at the time of the flood\n",
    "\n",
    "With your four raster datasets (pre- and post-flood DSMs and DTMs), you can computer changes to both terrain and vegetation. Bear in mind the following definitions:\n",
    "  * **Digital Terrain Model (DTM)** - the elevation of the ground relative to the datum\n",
    "  * **Digital Terrain Model of Difference (DoD)** - Erosion and deposition.\n",
    "\n",
    "      > DoD = DTM<sub>post</sub> - DTM<sub>pre</sub>\n",
    "      \n",
    "  * **Digital Surface Model (DSM)** - the elevation of vegetation relative to the datum\n",
    "  * **Canopy Height Model (CHM)** - the height of vegetation relative to the ground\n",
    "  \n",
    "      > CHM = DSM - DTM\n",
    "      \n",
    "  * **Differenced Canopy Height Model (dCHM)** - Vegetation growth or destruction over a period of time. Note that these values should be negative for decreased vegetation and positive for increased.\n",
    "  \n",
    "      > dCHM = CHM<sub>post</sub> - CHM<sub>pre</sub>"
   ]
  },
  {
   "cell_type": "markdown",
   "metadata": {
    "deletable": false,
    "editable": false,
    "nbgrader": {
     "cell_type": "markdown",
     "checksum": "9ec12981ac6e8283dc38869f9ee48a32",
     "grade": false,
     "grade_id": "cell-dcb63d8ea294fc4c",
     "locked": true,
     "schema_version": 3,
     "solution": false,
     "task": false
    }
   },
   "source": [
    "### Compute a DTM of Difference (DoD)\n",
    "In the cell below, compute the change in DTM post-flood so that deposition is positive and erosion is negative. At the end of the cell, call your new DataArray object."
   ]
  },
  {
   "cell_type": "code",
   "execution_count": null,
   "metadata": {
    "deletable": false,
    "nbgrader": {
     "cell_type": "code",
     "checksum": "6af0af98f66d076ad5299744ef149977",
     "grade": false,
     "grade_id": "cell-8079a1327b2b3ec0",
     "locked": false,
     "schema_version": 3,
     "solution": true,
     "task": false
    }
   },
   "outputs": [],
   "source": [
    "# YOUR CODE HERE\n",
    "raise NotImplementedError()"
   ]
  },
  {
   "cell_type": "code",
   "execution_count": null,
   "metadata": {
    "deletable": false,
    "editable": false,
    "nbgrader": {
     "cell_type": "code",
     "checksum": "191d92c8e58677b15fa3cb8ad04f756b",
     "grade": true,
     "grade_id": "cell-215f7f3b979e03cf",
     "locked": true,
     "points": 5,
     "schema_version": 3,
     "solution": false,
     "task": false
    }
   },
   "outputs": [],
   "source": [
    "# DO NOT MODIFY THIS CELL\n",
    "\n",
    "student_dod = _\n",
    "dod_pts = 0\n",
    "\n",
    "# Test DoD\n",
    "if isinstance(student_dod, xr.DataArray):\n",
    "    print(\"\\u2705 Great job! Your DoD is stored in a DataArray!\")\n",
    "    dod_pts += 1\n",
    "else:\n",
    "    print(\"\\u274C Oops, your DoD is not stored in a DataArray.\")\n",
    "\n",
    "if int(student_dod.min()) == -10:\n",
    "    print(\"\\u2705 The minimum value in your DoD is correct!\")\n",
    "    dod_pts += 2\n",
    "else:\n",
    "    print(\"\\u274C The minimum value in your DoD is incorrect.\")\n",
    "\n",
    "if int(student_dod.max()) == 15:\n",
    "    print(\"\\u2705 The maximum value in your DoD is correct!\")\n",
    "    dod_pts += 2\n",
    "else:\n",
    "    print(\"\\u274C The maximum value in your DoD is incorrect.\")\n",
    "    \n",
    "print(\"\\n \\u27A1 You received {} out of 5 points for computing a DoD.\"\n",
    "      .format(dod_pts))\n",
    "\n",
    "dod_pts"
   ]
  },
  {
   "cell_type": "code",
   "execution_count": null,
   "metadata": {
    "deletable": false,
    "nbgrader": {
     "cell_type": "code",
     "checksum": "96a81e085287dc17cf1515278a85005c",
     "grade": false,
     "grade_id": "challenge-1-answer",
     "locked": false,
     "schema_version": 3,
     "solution": true,
     "task": false
    }
   },
   "outputs": [],
   "source": [
    "# YOUR CODE HERE\n",
    "raise NotImplementedError()"
   ]
  },
  {
   "cell_type": "markdown",
   "metadata": {
    "deletable": false,
    "editable": false,
    "nbgrader": {
     "cell_type": "markdown",
     "checksum": "77084ec89a3e68206c477eca233807ac",
     "grade": false,
     "grade_id": "cell-ed4d4bd982143bb4",
     "locked": true,
     "schema_version": 3,
     "solution": false,
     "task": false
    }
   },
   "source": [
    "### Compute a differenced Canopy Height Model (dCHM)\n",
    "In the following cell, compute:\n",
    "  1. A pre-flood CHM\n",
    "  2. A post-flood CHM\n",
    "  3. A dCHM \n",
    "\n",
    "At the end of the cell, call the DataArray containing the dCHM you created. You do not need to call the pre- and post-flood CHMs."
   ]
  },
  {
   "cell_type": "code",
   "execution_count": null,
   "metadata": {
    "deletable": false,
    "nbgrader": {
     "cell_type": "code",
     "checksum": "a3a2e18f5f646210cfa80e0310d8f028",
     "grade": false,
     "grade_id": "cell-19f3e741a04e2451",
     "locked": false,
     "schema_version": 3,
     "solution": true,
     "task": false
    }
   },
   "outputs": [],
   "source": [
    "# YOUR CODE HERE\n",
    "raise NotImplementedError()"
   ]
  },
  {
   "cell_type": "code",
   "execution_count": null,
   "metadata": {
    "deletable": false,
    "editable": false,
    "nbgrader": {
     "cell_type": "code",
     "checksum": "c5d55167a18675199a0d199dcc817b45",
     "grade": true,
     "grade_id": "challenge-1-visible-tests",
     "locked": true,
     "points": 10,
     "schema_version": 3,
     "solution": false,
     "task": false
    }
   },
   "outputs": [],
   "source": [
    "# DO NOT MODIFY THIS CELL\n",
    "# Visible tests for your array\n",
    "\n",
    "student_dchm = _\n",
    "dchm_pts = 0\n",
    "    \n",
    "# Test dCHM\n",
    "if isinstance(student_dchm, xr.DataArray):\n",
    "    print(\"\\u2705 Great job! Your dCHM is stored in a DataArray!\")\n",
    "    dchm_pts += 2\n",
    "else:\n",
    "    print(\"\\u274C Oops, your dCHM is not stored in a DataArray.\")\n",
    "\n",
    "if int(student_dchm.min()) == -23:\n",
    "    print(\"\\u2705 The minimum value in your dCHM is correct!\")\n",
    "    dchm_pts += 4\n",
    "else:\n",
    "    print(\"\\u274C The minimum value in your dCHM is incorrect.\")\n",
    "\n",
    "if int(student_dchm.max()) == 24:\n",
    "    print(\"\\u2705 The maximum value in your dCHM is correct!\")\n",
    "    dchm_pts += 4\n",
    "else:\n",
    "    print(\"\\u274C The maximum value in your dCHM is incorrect.\")\n",
    "    \n",
    "print(\"\\n \\u27A1 You received {} out of 10 points for computing a dCHM.\"\n",
    "      .format(dchm_pts))\n",
    "\n",
    "dchm_pts"
   ]
  },
  {
   "cell_type": "markdown",
   "metadata": {
    "deletable": false,
    "editable": false,
    "nbgrader": {
     "cell_type": "markdown",
     "checksum": "77e615f3f49988d717e4468f04cd1bbf",
     "grade": false,
     "grade_id": "bar-2",
     "locked": true,
     "schema_version": 3,
     "solution": false,
     "task": false
    }
   },
   "source": [
    "<img style=\"float: left;\" src=\"colored-bar.png\"/>"
   ]
  },
  {
   "cell_type": "markdown",
   "metadata": {
    "deletable": false,
    "editable": false,
    "nbgrader": {
     "cell_type": "markdown",
     "checksum": "1c0230e6ec55d1b2caa216e2e6b62a92",
     "grade": false,
     "grade_id": "challenge-3-instructions",
     "locked": true,
     "points": 15,
     "schema_version": 3,
     "solution": false,
     "task": true
    }
   },
   "source": [
    "## Analysis of the 2013 Boulder, CO flood event\n",
    "\n",
    "### Plot erosion and deposition\n",
    "\n",
    "Create a figure that has two subplots:\n",
    "    1. A map of the DoD (HINT: use the `.plot.imshow` method of DataArrays\n",
    "    2. A histogram of the DoD (HINT: use the `.plot.hist` method of DataArrays\n",
    "\n",
    "#### Format your map\n",
    "Your left plot is a map. Northing and Easting values are sometimes not displayed on local maps. In addition, local maps like this should have and equal aspect ratio (1 m North is the same as 1 m East) **Turn off the x and y axes, and make the aspect equal in your plot with:**\n",
    "\n",
    "    ```python\n",
    "    axes_name_here.set_axis_off()\n",
    "    axes_name_here.axes.set_aspect('equal')\n",
    "    ```\n",
    "\n",
    "This will result in a small map. **Give it more space by adding** `gridspec_kw={'width_ratios': [3, 1]}` to your `plt.subplots()` function call.\n",
    "\n",
    "\n",
    "#### Pay attention to the details of your plot:\n",
    "  * Include a descriptive figure title and axes titles\n",
    "  * Use a diverging color map with high contrast and appropriate colors -- Check out the options in the [matplotlib colorap documentation](https://matplotlib.org/stable/tutorials/colors/colormaps.html#diverging). Typically, erosion is displayed in warm colors and deposition is cool colors.\n",
    "  * The number of bins is a key parameter for histograms. Play around with the `bins=` argument for the histogram plot, looking for a parameter that.\n",
    "  * What are the units of your data? Make sure they are clear from your plot.\n",
    "  \n",
    "#### Experiment with color levels\n",
    "Notice that your plot appears faded. This can be addressed by setting the `levels=` parameter of the `.plot.imshow` method. Then set your `bins=` parameter of the `.plot.hist` method to match. As a starting point, try `levels=[-10, -5, -.5, .5, 5, 10]`. Note that this is alternative method to computing the levels using `.apply_ufunc(np.digitize, ...)` and then plotting (as is shown in the textbook). Feel free to use the textbook method instead if you prefer.\n",
    "\n",
    "BONUS: (5 pts extra credit) You will be making a second plot just like this one for your dCHM. Write a function to make the plot and use it for both of your plots. What do you need to pass as arguments to your function? "
   ]
  },
  {
   "cell_type": "code",
   "execution_count": null,
   "metadata": {
    "deletable": false,
    "nbgrader": {
     "cell_type": "code",
     "checksum": "ee42520af9ceed81ac817bcb43df7e0c",
     "grade": false,
     "grade_id": "challenge-3-answer-2",
     "locked": false,
     "schema_version": 3,
     "solution": true,
     "task": false
    }
   },
   "outputs": [],
   "source": [
    "# YOUR CODE HERE\n",
    "raise NotImplementedError()"
   ]
  },
  {
   "cell_type": "markdown",
   "metadata": {
    "deletable": false,
    "editable": false,
    "nbgrader": {
     "cell_type": "markdown",
     "checksum": "25ddcd82bfa29d03915b3992f8d426b2",
     "grade": false,
     "grade_id": "question-1",
     "locked": true,
     "points": 8,
     "schema_version": 3,
     "solution": false,
     "task": true
    }
   },
   "source": [
    "#### Interpret the DoD plot\n",
    "\n",
    "In the cell below, write a one-sentence assertion-evidence style take away for the plot above, along with 2-3 sentences of explanation. How might you explain your results knowing that a flood took place?\n"
   ]
  },
  {
   "cell_type": "markdown",
   "metadata": {
    "deletable": false,
    "editable": false,
    "nbgrader": {
     "cell_type": "markdown",
     "checksum": "852aa39238cf11f3ea160c076c894a3a",
     "grade": false,
     "grade_id": "cell-d75038bf9eff6717",
     "locked": true,
     "points": 15,
     "schema_version": 3,
     "solution": false,
     "task": true
    }
   },
   "source": [
    "### Plot the change in vegetation\n",
    "\n",
    "Create a second plot for your dCHM data. It should be formatted the same as the previous plot. Try `levels=[-15, -5, -2, 2, 5, 15]` to start."
   ]
  },
  {
   "cell_type": "code",
   "execution_count": null,
   "metadata": {
    "deletable": false,
    "nbgrader": {
     "cell_type": "code",
     "checksum": "d5953c53cad02e48312818bae2421d9d",
     "grade": false,
     "grade_id": "cell-ce3f50b8dad535fe",
     "locked": false,
     "schema_version": 3,
     "solution": true,
     "task": false
    }
   },
   "outputs": [],
   "source": [
    "# YOUR CODE HERE\n",
    "raise NotImplementedError()"
   ]
  },
  {
   "cell_type": "markdown",
   "metadata": {
    "deletable": false,
    "editable": false,
    "nbgrader": {
     "cell_type": "markdown",
     "checksum": "982c0670fdbc1148684ab0359693c80b",
     "grade": false,
     "grade_id": "bar-3",
     "locked": true,
     "schema_version": 3,
     "solution": false,
     "task": false
    }
   },
   "source": [
    "<img style=\"float: left;\" src=\"colored-bar.png\"/>"
   ]
  },
  {
   "cell_type": "markdown",
   "metadata": {
    "deletable": false,
    "editable": false,
    "nbgrader": {
     "cell_type": "markdown",
     "checksum": "b374122c50e1606551ad721e040abed1",
     "grade": false,
     "grade_id": "question-answer-1",
     "locked": true,
     "points": 8,
     "schema_version": 3,
     "solution": false,
     "task": true
    }
   },
   "source": [
    "#### Interpret the dCHM plot\n",
    "\n",
    "In the cell below, write a one-sentence assertion-evidence style take away for the plot above, along with 2-3 sentences of explanation. How might you explain your results knowing that a flood took place?\n",
    "\n"
   ]
  },
  {
   "cell_type": "markdown",
   "metadata": {
    "deletable": false,
    "editable": false,
    "nbgrader": {
     "cell_type": "markdown",
     "checksum": "2c475d632c7224c2f12fec472bd5dfdd",
     "grade": false,
     "grade_id": "bar-4",
     "locked": true,
     "schema_version": 3,
     "solution": false,
     "task": false
    }
   },
   "source": [
    "<img style=\"float: left;\" src=\"colored-bar.png\"/>"
   ]
  },
  {
   "cell_type": "markdown",
   "metadata": {
    "deletable": false,
    "editable": false,
    "nbgrader": {
     "cell_type": "markdown",
     "checksum": "660382b73be5a649929537c4ac5c9c1e",
     "grade": false,
     "grade_id": "pep-8-grade",
     "locked": true,
     "points": 7,
     "schema_version": 3,
     "solution": false,
     "task": true
    }
   },
   "source": [
    "## Pep 8, Spelling and Does the Notebook Run?\n",
    "In this cell, we will give you points for the following\n",
    "\n",
    "1. PEP 8 is followed throughout the notebook (4 points)\n",
    "2. Spelling and grammar are considered in your written responses above (4 points)\n",
    "3. The notebook runs from top to bottom without any editing (it is reproducible) - 4 points"
   ]
  }
 ],
 "metadata": {
  "kernelspec": {
   "display_name": "Python 3 (ipykernel)",
   "language": "python",
   "name": "python3"
  },
  "language_info": {
   "codemirror_mode": {
    "name": "ipython",
    "version": 3
   },
   "file_extension": ".py",
   "mimetype": "text/x-python",
   "name": "python",
   "nbconvert_exporter": "python",
   "pygments_lexer": "ipython3",
   "version": "3.8.12"
  },
  "toc": {
   "base_numbering": 1,
   "nav_menu": {},
   "number_sections": true,
   "sideBar": true,
   "skip_h1_title": false,
   "title_cell": "Table of Contents",
   "title_sidebar": "Contents",
   "toc_cell": false,
   "toc_position": {},
   "toc_section_display": true,
   "toc_window_display": true
  },
  "varInspector": {
   "cols": {
    "lenName": 16,
    "lenType": 16,
    "lenVar": 40
   },
   "kernels_config": {
    "python": {
     "delete_cmd_postfix": "",
     "delete_cmd_prefix": "del ",
     "library": "var_list.py",
     "varRefreshCmd": "print(var_dic_list())"
    },
    "r": {
     "delete_cmd_postfix": ") ",
     "delete_cmd_prefix": "rm(",
     "library": "var_list.r",
     "varRefreshCmd": "cat(var_dic_list()) "
    }
   },
   "types_to_exclude": [
    "module",
    "function",
    "builtin_function_or_method",
    "instance",
    "_Feature"
   ],
   "window_display": false
  }
 },
 "nbformat": 4,
 "nbformat_minor": 2
}
